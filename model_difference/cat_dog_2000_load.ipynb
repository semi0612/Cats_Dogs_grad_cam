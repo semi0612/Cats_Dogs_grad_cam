{
  "nbformat": 4,
  "nbformat_minor": 0,
  "metadata": {
    "colab": {
      "name": "cat_dog_2000_load.ipynb",
      "provenance": [],
      "collapsed_sections": [],
      "authorship_tag": "ABX9TyNY48gF0Po4YwwuMEYQXMJ9",
      "include_colab_link": true
    },
    "kernelspec": {
      "name": "python3",
      "display_name": "Python 3"
    },
    "accelerator": "GPU"
  },
  "cells": [
    {
      "cell_type": "markdown",
      "metadata": {
        "id": "view-in-github",
        "colab_type": "text"
      },
      "source": [
        "<a href=\"https://colab.research.google.com/github/semi0612/cat_and_dog_vgg/blob/master/cat_dog_2000_load.ipynb\" target=\"_parent\"><img src=\"https://colab.research.google.com/assets/colab-badge.svg\" alt=\"Open In Colab\"/></a>"
      ]
    },
    {
      "cell_type": "markdown",
      "metadata": {
        "id": "G4-1ay2bCcXZ",
        "colab_type": "text"
      },
      "source": [
        "개고양이 이미지를 분류하는 코드\n",
        "\n",
        "2000장의 train_data, 500장의 valid_data\n",
        "\n",
        "훈련은 VGG16 모델을 불러와 사용"
      ]
    },
    {
      "cell_type": "code",
      "metadata": {
        "id": "KDP7LPTXhGZc",
        "colab_type": "code",
        "outputId": "83df1f23-1df0-4e89-c471-f0978cca61a7",
        "colab": {
          "base_uri": "https://localhost:8080/",
          "height": 122
        }
      },
      "source": [
        "from __future__ import absolute_import, division, print_function, unicode_literals\n",
        "\n",
        "!pip install -q tf-nightly-2.0-preview\n",
        "import tensorflow as tf\n",
        "from tensorflow.keras.models import Sequential\n",
        "from tensorflow.keras.layers import Dense, Conv2D, Flatten, Dropout, MaxPooling2D\n",
        "from tensorflow.keras.preprocessing.image import ImageDataGenerator\n",
        "import numpy as np # linear algebra\n",
        "import pandas as pd # data processing, CSV file I/O (e.g. pd.read_csv)\n",
        "import os, shutil\n",
        "import cv2\n",
        "import matplotlib.pyplot as plt\n",
        "import copy\n",
        "import tqdm\n",
        "from PIL import Image\n",
        "import glob\n",
        "\n",
        "%matplotlib inline"
      ],
      "execution_count": 0,
      "outputs": [
        {
          "output_type": "stream",
          "text": [
            "\u001b[K     |████████████████████████████████| 95.2MB 84kB/s \n",
            "\u001b[K     |████████████████████████████████| 3.8MB 29.0MB/s \n",
            "\u001b[K     |████████████████████████████████| 450kB 47.8MB/s \n",
            "\u001b[K     |████████████████████████████████| 81kB 10.7MB/s \n",
            "\u001b[31mERROR: google-colab 1.0.0 has requirement google-auth~=1.4.0, but you'll have google-auth 1.11.0 which is incompatible.\u001b[0m\n",
            "\u001b[31mERROR: tb-nightly 2.1.0a20191206 has requirement grpcio>=1.24.3, but you'll have grpcio 1.15.0 which is incompatible.\u001b[0m\n",
            "\u001b[?25h"
          ],
          "name": "stdout"
        }
      ]
    },
    {
      "cell_type": "code",
      "metadata": {
        "id": "SsTO25X88Sm8",
        "colab_type": "code",
        "outputId": "4ad0d9f8-68f1-476d-be44-64b2c1bca113",
        "colab": {
          "base_uri": "https://localhost:8080/",
          "height": 125
        }
      },
      "source": [
        "from google.colab import drive\n",
        "\n",
        "drive.mount('/content/gdrive')"
      ],
      "execution_count": 0,
      "outputs": [
        {
          "output_type": "stream",
          "text": [
            "Go to this URL in a browser: https://accounts.google.com/o/oauth2/auth?client_id=947318989803-6bn6qk8qdgf4n4g3pfee6491hc0brc4i.apps.googleusercontent.com&redirect_uri=urn%3aietf%3awg%3aoauth%3a2.0%3aoob&response_type=code&scope=email%20https%3a%2f%2fwww.googleapis.com%2fauth%2fdocs.test%20https%3a%2f%2fwww.googleapis.com%2fauth%2fdrive%20https%3a%2f%2fwww.googleapis.com%2fauth%2fdrive.photos.readonly%20https%3a%2f%2fwww.googleapis.com%2fauth%2fpeopleapi.readonly\n",
            "\n",
            "Enter your authorization code:\n",
            "··········\n",
            "Mounted at /content/gdrive\n"
          ],
          "name": "stdout"
        }
      ]
    },
    {
      "cell_type": "markdown",
      "metadata": {
        "id": "UIJt-m4mOY7N",
        "colab_type": "text"
      },
      "source": [
        "2500개의 데이터 로드\n",
        "\n",
        "로드한 데이터 처리하기"
      ]
    },
    {
      "cell_type": "code",
      "metadata": {
        "id": "fxbgWkFEm1Po",
        "colab_type": "code",
        "outputId": "4e153c61-6777-492f-e488-ec9802454ab8",
        "colab": {
          "base_uri": "https://localhost:8080/",
          "height": 492
        }
      },
      "source": [
        "label=[]    #공간 확보\n",
        "data=[]     #공간 확보\n",
        "counter=0\n",
        "\n",
        "IMAGE_SIZE = 80\n",
        "\n",
        "path = '/content/gdrive/My Drive/cat_and_dog/train_2500'  #path = '/링크'\n",
        "\n",
        "#try : 데이터 전처리하기, 0~1 사이로 만들기\n",
        "#train_2500 폴더 안에 랜덤으로 들어가 있는 2500개의 이미지를\n",
        "#앞글자가 cat인 경우 0, 앞글자가 dog일 경우 1 => 정답레이블 만들기\n",
        "\n",
        "for file in os.listdir(path):\n",
        "    image_data=cv2.imread(os.path.join(path,file), cv2.IMREAD_COLOR)\n",
        "    image_data=cv2.resize(image_data,(IMAGE_SIZE,IMAGE_SIZE))\n",
        "    try:\n",
        "        data.append(image_data/255.0)\n",
        "    except:\n",
        "        label=label[:len(label)-1]\n",
        "    if file.startswith(\"cat\"):\n",
        "        label.append(0)\n",
        "    elif file.startswith(\"dog\"):\n",
        "        label.append(1)\n",
        "    counter+=1\n",
        "    if counter%100==0:\n",
        "        print (counter,\" image data retreived\") #100개 완료되었을때마다 출력해주ㅓ라\n",
        "\n",
        "data=np.array(data)\n",
        "data=data.reshape((data.shape)[0],(data.shape)[1],(data.shape)[2],3)\n",
        "label=np.array(label)\n",
        "\n",
        "print (data.shape)\n",
        "print (label.shape)"
      ],
      "execution_count": 0,
      "outputs": [
        {
          "output_type": "stream",
          "text": [
            "100  image data retreived\n",
            "200  image data retreived\n",
            "300  image data retreived\n",
            "400  image data retreived\n",
            "500  image data retreived\n",
            "600  image data retreived\n",
            "700  image data retreived\n",
            "800  image data retreived\n",
            "900  image data retreived\n",
            "1000  image data retreived\n",
            "1100  image data retreived\n",
            "1200  image data retreived\n",
            "1300  image data retreived\n",
            "1400  image data retreived\n",
            "1500  image data retreived\n",
            "1600  image data retreived\n",
            "1700  image data retreived\n",
            "1800  image data retreived\n",
            "1900  image data retreived\n",
            "2000  image data retreived\n",
            "2100  image data retreived\n",
            "2200  image data retreived\n",
            "2300  image data retreived\n",
            "2400  image data retreived\n",
            "2500  image data retreived\n",
            "(2500, 80, 80, 3)\n",
            "(2500,)\n"
          ],
          "name": "stdout"
        }
      ]
    },
    {
      "cell_type": "code",
      "metadata": {
        "id": "4K8JEcoCrOKD",
        "colab_type": "code",
        "outputId": "7fceabc0-9509-4ea5-d002-df235457936e",
        "colab": {
          "base_uri": "https://localhost:8080/",
          "height": 87
        }
      },
      "source": [
        "#파일 나누기\n",
        "#불러온 파일을 train 0.8 / test0.2 비율로 나누기\n",
        "#random_state = 값 지정시 반복 연산 시에 동일한 결과를 얻을 수 있게 한다.\n",
        "\n",
        "from sklearn.model_selection import train_test_split\n",
        "\n",
        "train_data, valid_data, train_label, valid_label = train_test_split(data, label, test_size=0.2, random_state=42)\n",
        "\n",
        "print(train_data.shape)\n",
        "print(train_label.shape)\n",
        "print(valid_data.shape)\n",
        "print(valid_label.shape)\n"
      ],
      "execution_count": 0,
      "outputs": [
        {
          "output_type": "stream",
          "text": [
            "(2000, 80, 80, 3)\n",
            "(2000,)\n",
            "(500, 80, 80, 3)\n",
            "(500,)\n"
          ],
          "name": "stdout"
        }
      ]
    },
    {
      "cell_type": "code",
      "metadata": {
        "id": "OvQJ5ySirOkr",
        "colab_type": "code",
        "outputId": "ed64e238-d055-4e43-fd9e-d7bfa87ec5c8",
        "colab": {
          "base_uri": "https://localhost:8080/",
          "height": 844
        }
      },
      "source": [
        "#이미 훈련된 VGG16 끌어오기 \n",
        "from keras.applications.vgg16 import VGG16\n",
        "\n",
        "#weights='imagenet'으로 값을 주면 이미지넷으로 트레이닝 된 모델을 불러올 수 있다\n",
        "#하지만 여기서는 값을 주었을때 loss값과 acc값이 제대로 나오지 않아 None으로 설정.\n",
        "#include_top= 상단의 F.C 레이어를 포함할 것인이 아닌지 결정하는 파라미터\n",
        "model_vgg = tf.keras.applications.VGG16(weights     = None,\n",
        "                                        include_top = False,\n",
        "                                        input_shape=(80, 80, 3))\n",
        "\n",
        "model_vgg.summary()"
      ],
      "execution_count": 0,
      "outputs": [
        {
          "output_type": "stream",
          "text": [
            "Using TensorFlow backend.\n"
          ],
          "name": "stderr"
        },
        {
          "output_type": "stream",
          "text": [
            "Model: \"vgg16\"\n",
            "_________________________________________________________________\n",
            "Layer (type)                 Output Shape              Param #   \n",
            "=================================================================\n",
            "input_1 (InputLayer)         [(None, 80, 80, 3)]       0         \n",
            "_________________________________________________________________\n",
            "block1_conv1 (Conv2D)        (None, 80, 80, 64)        1792      \n",
            "_________________________________________________________________\n",
            "block1_conv2 (Conv2D)        (None, 80, 80, 64)        36928     \n",
            "_________________________________________________________________\n",
            "block1_pool (MaxPooling2D)   (None, 40, 40, 64)        0         \n",
            "_________________________________________________________________\n",
            "block2_conv1 (Conv2D)        (None, 40, 40, 128)       73856     \n",
            "_________________________________________________________________\n",
            "block2_conv2 (Conv2D)        (None, 40, 40, 128)       147584    \n",
            "_________________________________________________________________\n",
            "block2_pool (MaxPooling2D)   (None, 20, 20, 128)       0         \n",
            "_________________________________________________________________\n",
            "block3_conv1 (Conv2D)        (None, 20, 20, 256)       295168    \n",
            "_________________________________________________________________\n",
            "block3_conv2 (Conv2D)        (None, 20, 20, 256)       590080    \n",
            "_________________________________________________________________\n",
            "block3_conv3 (Conv2D)        (None, 20, 20, 256)       590080    \n",
            "_________________________________________________________________\n",
            "block3_pool (MaxPooling2D)   (None, 10, 10, 256)       0         \n",
            "_________________________________________________________________\n",
            "block4_conv1 (Conv2D)        (None, 10, 10, 512)       1180160   \n",
            "_________________________________________________________________\n",
            "block4_conv2 (Conv2D)        (None, 10, 10, 512)       2359808   \n",
            "_________________________________________________________________\n",
            "block4_conv3 (Conv2D)        (None, 10, 10, 512)       2359808   \n",
            "_________________________________________________________________\n",
            "block4_pool (MaxPooling2D)   (None, 5, 5, 512)         0         \n",
            "_________________________________________________________________\n",
            "block5_conv1 (Conv2D)        (None, 5, 5, 512)         2359808   \n",
            "_________________________________________________________________\n",
            "block5_conv2 (Conv2D)        (None, 5, 5, 512)         2359808   \n",
            "_________________________________________________________________\n",
            "block5_conv3 (Conv2D)        (None, 5, 5, 512)         2359808   \n",
            "_________________________________________________________________\n",
            "block5_pool (MaxPooling2D)   (None, 2, 2, 512)         0         \n",
            "=================================================================\n",
            "Total params: 14,714,688\n",
            "Trainable params: 14,714,688\n",
            "Non-trainable params: 0\n",
            "_________________________________________________________________\n"
          ],
          "name": "stdout"
        }
      ]
    },
    {
      "cell_type": "code",
      "metadata": {
        "id": "moKoe3UAuoHp",
        "colab_type": "code",
        "outputId": "a2bfb065-cd18-46d7-a813-90b8b1a3a97b",
        "colab": {
          "base_uri": "https://localhost:8080/",
          "height": 298
        }
      },
      "source": [
        "#불러오면서 날린 Dence layer를 만들어 뒤에 연결해주기\n",
        "\n",
        "from tensorflow.keras import layers\n",
        "\n",
        "model = tf.keras.Sequential()\n",
        "model.add(model_vgg)\n",
        "model.add(layers.Flatten())\n",
        "model.add(layers.Dense(256, activation  = 'relu'))\n",
        "model.add(layers.Dense(1, activation = 'sigmoid'))\n",
        "\n",
        "model.summary()"
      ],
      "execution_count": 0,
      "outputs": [
        {
          "output_type": "stream",
          "text": [
            "Model: \"sequential\"\n",
            "_________________________________________________________________\n",
            "Layer (type)                 Output Shape              Param #   \n",
            "=================================================================\n",
            "vgg16 (Model)                (None, 2, 2, 512)         14714688  \n",
            "_________________________________________________________________\n",
            "flatten (Flatten)            (None, 2048)              0         \n",
            "_________________________________________________________________\n",
            "dense (Dense)                (None, 256)               524544    \n",
            "_________________________________________________________________\n",
            "dense_1 (Dense)              (None, 1)                 257       \n",
            "=================================================================\n",
            "Total params: 15,239,489\n",
            "Trainable params: 15,239,489\n",
            "Non-trainable params: 0\n",
            "_________________________________________________________________\n"
          ],
          "name": "stdout"
        }
      ]
    },
    {
      "cell_type": "code",
      "metadata": {
        "id": "SJAVqSR1tmy3",
        "colab_type": "code",
        "colab": {}
      },
      "source": [
        "#모델 학습과정 설정하기\n",
        "#개 vs 고양이의 이진분류 => binary_crossentropy\n",
        "#metrics=모델이 컴파일될 때 모델 수행 결과를 나타내게끔 설정하는 부분\n",
        "#정확돌르 측정하기 위해 사용되는 test 샘플을 학습 과정에서 제외시킴으로 오버피팅을 방지\n",
        "from keras import optimizers\n",
        "\n",
        "RMSprop = tf.optimizers.RMSprop(lr=1e-4)\n",
        "\n",
        "model.compile(loss='binary_crossentropy',\n",
        "              optimizer=RMSprop,\n",
        "              metrics=['acc'])\n"
      ],
      "execution_count": 0,
      "outputs": []
    },
    {
      "cell_type": "code",
      "metadata": {
        "id": "vlUwoamTtm2M",
        "colab_type": "code",
        "outputId": "a64c8842-76bf-41cf-f2f3-eef323de1bfd",
        "colab": {
          "base_uri": "https://localhost:8080/",
          "height": 562
        }
      },
      "source": [
        "#모델로 학습시키기\n",
        "BATCH_SIZE=20\n",
        "\n",
        "train_history = model.fit(train_data,train_label,validation_data=(valid_data,valid_label),\n",
        "                          epochs=15,\n",
        "                          batch_size=BATCH_SIZE)"
      ],
      "execution_count": 0,
      "outputs": [
        {
          "output_type": "stream",
          "text": [
            "Train on 2000 samples, validate on 500 samples\n",
            "Epoch 1/15\n",
            "2000/2000 [==============================] - 636s 318ms/sample - loss: 0.6935 - acc: 0.4765 - val_loss: 0.6931 - val_acc: 0.4980\n",
            "Epoch 2/15\n",
            "2000/2000 [==============================] - 612s 306ms/sample - loss: 0.6938 - acc: 0.5020 - val_loss: 0.6900 - val_acc: 0.6040\n",
            "Epoch 3/15\n",
            "2000/2000 [==============================] - 595s 298ms/sample - loss: 0.6949 - acc: 0.5665 - val_loss: 0.6735 - val_acc: 0.6020\n",
            "Epoch 4/15\n",
            "2000/2000 [==============================] - 596s 298ms/sample - loss: 0.6806 - acc: 0.5825 - val_loss: 0.6441 - val_acc: 0.6340\n",
            "Epoch 5/15\n",
            "2000/2000 [==============================] - 593s 297ms/sample - loss: 0.6686 - acc: 0.5935 - val_loss: 0.6605 - val_acc: 0.5820\n",
            "Epoch 6/15\n",
            "2000/2000 [==============================] - 584s 292ms/sample - loss: 0.6570 - acc: 0.6160 - val_loss: 0.6298 - val_acc: 0.6120\n",
            "Epoch 7/15\n",
            "2000/2000 [==============================] - 586s 293ms/sample - loss: 0.6477 - acc: 0.6045 - val_loss: 0.6254 - val_acc: 0.6360\n",
            "Epoch 8/15\n",
            "2000/2000 [==============================] - 585s 293ms/sample - loss: 0.6457 - acc: 0.6225 - val_loss: 0.6223 - val_acc: 0.6380\n",
            "Epoch 9/15\n",
            "2000/2000 [==============================] - 584s 292ms/sample - loss: 0.6298 - acc: 0.6440 - val_loss: 0.6384 - val_acc: 0.6380\n",
            "Epoch 10/15\n",
            "2000/2000 [==============================] - 613s 306ms/sample - loss: 0.6171 - acc: 0.6565 - val_loss: 0.6062 - val_acc: 0.6320\n",
            "Epoch 11/15\n",
            "2000/2000 [==============================] - 589s 295ms/sample - loss: 0.5978 - acc: 0.6775 - val_loss: 0.5958 - val_acc: 0.6580\n",
            "Epoch 12/15\n",
            "2000/2000 [==============================] - 585s 293ms/sample - loss: 0.5867 - acc: 0.6850 - val_loss: 0.7709 - val_acc: 0.5840\n",
            "Epoch 13/15\n",
            "2000/2000 [==============================] - 581s 291ms/sample - loss: 0.5736 - acc: 0.7020 - val_loss: 0.6170 - val_acc: 0.6700\n",
            "Epoch 14/15\n",
            "2000/2000 [==============================] - 585s 292ms/sample - loss: 0.5624 - acc: 0.7200 - val_loss: 0.5535 - val_acc: 0.7160\n",
            "Epoch 15/15\n",
            "2000/2000 [==============================] - 583s 291ms/sample - loss: 0.5222 - acc: 0.7450 - val_loss: 0.5608 - val_acc: 0.7040\n"
          ],
          "name": "stdout"
        }
      ]
    },
    {
      "cell_type": "code",
      "metadata": {
        "id": "Zqb0L2xYrOnn",
        "colab_type": "code",
        "outputId": "51fff458-7b00-4d55-b114-0ac7a783ce52",
        "colab": {
          "base_uri": "https://localhost:8080/",
          "height": 545
        }
      },
      "source": [
        "acc = train_history.history['acc']\n",
        "val_acc = train_history.history['val_acc']\n",
        "loss = train_history.history['loss']\n",
        "val_loss = train_history.history['val_loss']\n",
        "\n",
        "epochs = range(1, len(acc) + 1)\n",
        "\n",
        "plt.plot(epochs, acc, 'g', label='Training acc')\n",
        "plt.plot(epochs, val_acc, 'y', label='Validation acc')\n",
        "plt.title('Training and validation accuracy')\n",
        "plt.legend()\n",
        "\n",
        "plt.figure()\n",
        "\n",
        "plt.plot(epochs, loss, 'g', label='Training loss')\n",
        "plt.plot(epochs, val_loss, 'y', label='Validation loss')\n",
        "plt.title('Training and validation loss')\n",
        "plt.legend()\n",
        "plt.ylim(0.0, 1.0)\n",
        "\n",
        "plt.show()"
      ],
      "execution_count": 0,
      "outputs": [
        {
          "output_type": "display_data",
          "data": {
            "image/png": "[encoded data removed]",
            "text/plain": [
              "<Figure size 432x288 with 1 Axes>"
            ]
          },
          "metadata": {
            "tags": []
          }
        },
        {
          "output_type": "display_data",
          "data": {
            "image/png": "[encoded data removed]",
            "text/plain": [
              "<Figure size 432x288 with 1 Axes>"
            ]
          },
          "metadata": {
            "tags": []
          }
        }
      ]
    },
    {
      "cell_type": "code",
      "metadata": {
        "id": "G38mp1ql9wuj",
        "colab_type": "code",
        "colab": {}
      },
      "source": [
        ""
      ],
      "execution_count": 0,
      "outputs": []
    }
  ]
}
